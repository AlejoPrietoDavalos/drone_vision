{
 "cells": [
  {
   "cell_type": "code",
   "execution_count": null,
   "metadata": {},
   "outputs": [],
   "source": [
    "from pathlib import Path\n",
    "import shutil\n",
    "\n",
    "\n",
    "path_root = Path(\"data/cracks_pavement\")\n",
    "path_broken = path_root / \"broken\"\n",
    "path_broken.mkdir(exist_ok=True)\n",
    "paths_folders = sorted(p for p in path_root.iterdir() if p.name.startswith(\"SESSION\"))\n",
    "\n",
    "def rename_file(p: Path) -> None:\n",
    "    stem = p.stem.split(\"-\")[0] if \"-\" in p.stem else p.stem\n",
    "    if stem.startswith(\"out\") and stem[3:].isdigit():\n",
    "        num = int(stem[3:])\n",
    "        new_stem = f\"{num:05d}\"\n",
    "        new_path = p.with_stem(new_stem)\n",
    "        shutil.move(p, new_path)\n",
    "\n",
    "for path_folder in paths_folders:\n",
    "    for subfolder in (\"img\", \"mask\", \"target\"):\n",
    "        for p in (path_folder / subfolder).iterdir():\n",
    "            rename_file(p)\n",
    "\n",
    "    path_img = path_folder / \"img\"\n",
    "    path_mask = path_folder / \"mask\"\n",
    "    path_target = path_folder / \"target\"\n",
    "\n",
    "    names_img = {p.stem for p in path_img.iterdir()}\n",
    "    names_mask = {p.stem for p in path_mask.iterdir()}\n",
    "    names_target = {p.stem for p in path_target.iterdir()}\n",
    "\n",
    "    all_names = names_img | names_mask | names_target\n",
    "\n",
    "    for name in all_names:\n",
    "        present = {\n",
    "            \"img\": name in names_img,\n",
    "            \"mask\": name in names_mask,\n",
    "            \"target\": name in names_target,\n",
    "        }\n",
    "        if not all(present.values()):\n",
    "            for subfolder, is_present in present.items():\n",
    "                if is_present:\n",
    "                    src = path_folder / subfolder / f\"{name}.png\"\n",
    "                    dst = path_broken / path_folder.name / subfolder\n",
    "                    dst.mkdir(parents=True, exist_ok=True)\n",
    "                    shutil.move(src, dst / src.name)\n"
   ]
  }
 ],
 "metadata": {
  "kernelspec": {
   "display_name": "env",
   "language": "python",
   "name": "python3"
  },
  "language_info": {
   "name": "python",
   "version": "3.13.2"
  }
 },
 "nbformat": 4,
 "nbformat_minor": 2
}
