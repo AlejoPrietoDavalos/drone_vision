{
 "cells": [
  {
   "cell_type": "code",
   "execution_count": null,
   "metadata": {},
   "outputs": [],
   "source": [
    "from PIL import Image\n",
    "\n",
    "from const import path_labels, path_train\n",
    "\n",
    "\n",
    "for p in path_train.iterdir():\n",
    "    path_img = path_train / \"Drone_005.mp4_t-12.5.jpg\"\n",
    "    break\n",
    "\n",
    "img = Image.open(path_img)\n",
    "display((img.width, img.height))"
   ]
  },
  {
   "cell_type": "code",
   "execution_count": null,
   "metadata": {},
   "outputs": [],
   "source": [
    "import polars as pl\n",
    "\n",
    "for path_label in path_labels.iterdir():\n",
    "    df = pl.read_csv(path_label)\n",
    "    break\n",
    "df"
   ]
  },
  {
   "cell_type": "code",
   "execution_count": null,
   "metadata": {},
   "outputs": [],
   "source": [
    "from typing import Tuple\n",
    "\n",
    "def extract_img_name_time(img_name_complete: str) -> Tuple[str, str]:\n",
    "    return tuple(img_name_complete.rsplit('_', 1))\n",
    "\n",
    "img_name, img_time = extract_img_name_time(df[\"image\"][0])\n",
    "img_name, img_time"
   ]
  },
  {
   "cell_type": "code",
   "execution_count": null,
   "metadata": {},
   "outputs": [],
   "source": [
    "from const import path_train\n",
    "\n",
    "from PIL import Image\n",
    "\n",
    "Image.open(path_train / f\"{df['image'][0]}.jpg\")"
   ]
  }
 ],
 "metadata": {
  "kernelspec": {
   "display_name": "env",
   "language": "python",
   "name": "python3"
  },
  "language_info": {
   "codemirror_mode": {
    "name": "ipython",
    "version": 3
   },
   "file_extension": ".py",
   "mimetype": "text/x-python",
   "name": "python",
   "nbconvert_exporter": "python",
   "pygments_lexer": "ipython3",
   "version": "3.13.2"
  }
 },
 "nbformat": 4,
 "nbformat_minor": 2
}
