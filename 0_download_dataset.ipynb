{
 "cells": [
  {
   "cell_type": "code",
   "execution_count": null,
   "metadata": {},
   "outputs": [],
   "source": [
    "from pathlib import Path\n",
    "import shutil\n",
    "\n",
    "import kagglehub\n",
    "\n",
    "from const import path_ntut, path_labels, path_train, path_test\n",
    "\n",
    "\n",
    "ID_DATASET = \"kuantinglai/ntut-4k-drone-photo-dataset-for-human-detection\"\n",
    "DOWNLOAD_AGAIN = False"
   ]
  },
  {
   "cell_type": "code",
   "execution_count": null,
   "metadata": {},
   "outputs": [],
   "source": [
    "def kaggle_download(*, id_dataset: str):\n",
    "    \"\"\" `id_dataset:` Se obtiene de la url del dataset.\"\"\"\n",
    "    _path_downloaded = Path(kagglehub.dataset_download(id_dataset))\n",
    "    print(\"Path to dataset files:\", _path_downloaded)\n",
    "\n",
    "    # Muevo los archivos descargados a data/.\n",
    "    for item in _path_downloaded.iterdir():\n",
    "        shutil.move(str(item), str(path_ntut))\n"
   ]
  },
  {
   "cell_type": "code",
   "execution_count": null,
   "metadata": {},
   "outputs": [],
   "source": [
    "if DOWNLOAD_AGAIN:\n",
    "    kaggle_download(id_dataset=ID_DATASET)\n",
    "\n",
    "# ---> Emprolijo el dataset.\n",
    "for path_csv in path_ntut.rglob(\"*.csv\"):\n",
    "    shutil.move(str(path_csv), str(path_labels / path_csv.name))\n",
    "\n",
    "path_train_old = path_ntut / \"ntut_drone_train\"\n",
    "if path_train_old.exists():\n",
    "    for path_jpg in path_train_old.rglob(\"*.jpg\"):\n",
    "        shutil.move(str(path_jpg), str(path_train / path_jpg.name))\n",
    "\n",
    "path_test_old = path_ntut / \"ntut_drone_test\"\n",
    "if path_test_old.exists():\n",
    "    for path_jpg in path_test_old.rglob(\"*.jpg\"):\n",
    "        shutil.move(str(path_jpg), str(path_test / path_jpg.name))"
   ]
  }
 ],
 "metadata": {
  "kernelspec": {
   "display_name": "env",
   "language": "python",
   "name": "python3"
  },
  "language_info": {
   "codemirror_mode": {
    "name": "ipython",
    "version": 3
   },
   "file_extension": ".py",
   "mimetype": "text/x-python",
   "name": "python",
   "nbconvert_exporter": "python",
   "pygments_lexer": "ipython3",
   "version": "3.13.2"
  }
 },
 "nbformat": 4,
 "nbformat_minor": 2
}
